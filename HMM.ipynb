{
 "cells": [
  {
   "cell_type": "code",
   "execution_count": null,
   "id": "3f4fb9b7",
   "metadata": {},
   "outputs": [
    {
     "ename": "",
     "evalue": "",
     "output_type": "error",
     "traceback": [
      "\u001b[1;31mRunning cells with 'Python 3.9.12 64-bit' requires ipykernel package.\n",
      "\u001b[1;31mRun the following command to install 'ipykernel' into the Python environment. \n",
      "\u001b[1;31mCommand: '/home/notepuc05/.asdf/shims/python -m pip install ipykernel -U --user --force-reinstall'"
     ]
    }
   ],
   "source": [
    "import numpy as np\n",
    "from sklearn import hmm\n",
    "\n",
    "startprob = np.array([0.6, 0.3, 0.1])\n",
    "transmat = np.array([[0.7, 0.2, 0.1], [0.3, 0.5, 0.2], [0.3, 0.3, 0.4]])\n",
    "means = np.array([[0.0, 0.0], [3.0, -3.0], [5.0, 10.0]])\n",
    "covars = np.tile(np.identity(2), (3, 1, 1))\n",
    "model = hmm.GaussianHMM(3, \"full\", startprob, transmat)\n",
    "model.means_ = means\n",
    "model.covars_ = covars\n",
    "X, Z = model.sample(100)"
   ]
  },
  {
   "cell_type": "code",
   "execution_count": null,
   "id": "277271f3",
   "metadata": {},
   "outputs": [],
   "source": [
    "# model2 = hmm.GaussianHMM(3, \"full\")\n",
    "# model2.fit([X]) \n",
    "# GaussianHMM(algorithm='viterbi',...\n",
    "# >>> Z2 = model2.predict(X)"
   ]
  }
 ],
 "metadata": {
  "kernelspec": {
   "display_name": "Python 3.9.12 64-bit",
   "language": "python",
   "name": "python3"
  },
  "language_info": {
   "codemirror_mode": {
    "name": "ipython",
    "version": 3
   },
   "file_extension": ".py",
   "mimetype": "text/x-python",
   "name": "python",
   "nbconvert_exporter": "python",
   "pygments_lexer": "ipython3",
   "version": "3.9.12"
  },
  "vscode": {
   "interpreter": {
    "hash": "0b4ce7c6c2c8bb12d7cbae5c12d8517ea53b22e2236164a9eed047b4ae5c9590"
   }
  }
 },
 "nbformat": 4,
 "nbformat_minor": 5
}
